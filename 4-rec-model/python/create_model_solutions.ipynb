{
 "cells": [
  {
   "cell_type": "markdown",
   "metadata": {},
   "source": [
    "## Medical Plan Recommender Model\n",
    "\n",
    "\n",
    "In this assignment, we want to evaluate your ability to engineer features and design and evaluate a model. We will create a multi-class classification model to recommend medical plans to employees based on user data (inputs) and medical plan labels (outputs). We have access to data from ~250 users. Each user is classified into 1 of 3 plans by actuaries. \n",
    "\n",
    "Feel free to use any python packages you would like. You are also allowed to google for help with method names / syntax! \n",
    "\n",
    "Dataset Columns:\n",
    "\n",
    "- **age**: age of employee\n",
    "- **family**: who is covered? (Just Me, Me and my Spouse', Me and my kids, Me, Spouse, and Kids)\n",
    "- **salary**: income of employee\n",
    "- **household_salaries**: household income of employee\n",
    "- **financial_risk_preference**: (1) Prefer Savings to Prefer Protection (5) \n",
    "- **preexisting_conditions**: conditions that require frequent doctor visits (cancer, high blood pressure, etc)\n",
    "- **prescription_costs**: costs of annual prescription \n",
    "- **pcp_costs**: costs of primary care costs last year\n",
    "- **specialist_costs**: annual cost of speciality care costs last year\n",
    "- **pcp_visits**: number of pcp visits last year\n",
    "- **qle**: qualifying life event that might incur costs (baby, medical procedure, married, moving)\n",
    "- **specialty_visits**: number of specalist visits last year \n",
    "- **exercises**: frequency of exercise (I exercise everyday, I exercise 3x a week, I don't exercise)\n",
    "- **savings**: if they had to pay $3000, how would they pay for this? (borrow money, have savings, HSA)\n",
    "- **label**: plan recommendation as indicated by actuary"
   ]
  },
  {
   "cell_type": "code",
   "execution_count": 69,
   "metadata": {},
   "outputs": [
    {
     "data": {
      "text/html": [
       "<div>\n",
       "<style scoped>\n",
       "    .dataframe tbody tr th:only-of-type {\n",
       "        vertical-align: middle;\n",
       "    }\n",
       "\n",
       "    .dataframe tbody tr th {\n",
       "        vertical-align: top;\n",
       "    }\n",
       "\n",
       "    .dataframe thead th {\n",
       "        text-align: right;\n",
       "    }\n",
       "</style>\n",
       "<table border=\"1\" class=\"dataframe\">\n",
       "  <thead>\n",
       "    <tr style=\"text-align: right;\">\n",
       "      <th></th>\n",
       "      <th>age</th>\n",
       "      <th>family</th>\n",
       "      <th>salary</th>\n",
       "      <th>household_salaries</th>\n",
       "      <th>financial_risk_preference</th>\n",
       "      <th>preexisting_conditions</th>\n",
       "      <th>prescription_costs</th>\n",
       "      <th>pcp_costs</th>\n",
       "      <th>specialist_costs</th>\n",
       "      <th>pcp_visits</th>\n",
       "      <th>qle</th>\n",
       "      <th>specialty_visits</th>\n",
       "      <th>exercises</th>\n",
       "      <th>savings</th>\n",
       "      <th>label</th>\n",
       "    </tr>\n",
       "  </thead>\n",
       "  <tbody>\n",
       "    <tr>\n",
       "      <th>0</th>\n",
       "      <td>38</td>\n",
       "      <td>Just Me</td>\n",
       "      <td>84189</td>\n",
       "      <td>84189.0</td>\n",
       "      <td>3</td>\n",
       "      <td>none</td>\n",
       "      <td>97</td>\n",
       "      <td>1025</td>\n",
       "      <td>358</td>\n",
       "      <td>9</td>\n",
       "      <td>none</td>\n",
       "      <td>1</td>\n",
       "      <td>I exercise 3x a week</td>\n",
       "      <td>HSA</td>\n",
       "      <td>Cigna Copay Plan PPO</td>\n",
       "    </tr>\n",
       "    <tr>\n",
       "      <th>1</th>\n",
       "      <td>33</td>\n",
       "      <td>Me and my Spouse</td>\n",
       "      <td>117690</td>\n",
       "      <td>129459.0</td>\n",
       "      <td>3</td>\n",
       "      <td>none</td>\n",
       "      <td>51</td>\n",
       "      <td>155</td>\n",
       "      <td>0</td>\n",
       "      <td>2</td>\n",
       "      <td>none</td>\n",
       "      <td>0</td>\n",
       "      <td>I exercise 3x a week</td>\n",
       "      <td>have savings</td>\n",
       "      <td>Cigna Base HDHP</td>\n",
       "    </tr>\n",
       "    <tr>\n",
       "      <th>2</th>\n",
       "      <td>47</td>\n",
       "      <td>Me and my kids</td>\n",
       "      <td>83461</td>\n",
       "      <td>100153.2</td>\n",
       "      <td>3</td>\n",
       "      <td>high blood pressure</td>\n",
       "      <td>763</td>\n",
       "      <td>268</td>\n",
       "      <td>0</td>\n",
       "      <td>2</td>\n",
       "      <td>baby</td>\n",
       "      <td>0</td>\n",
       "      <td>I exercise 3x a week</td>\n",
       "      <td>have savings</td>\n",
       "      <td>Cigna Copay Plan PPO</td>\n",
       "    </tr>\n",
       "    <tr>\n",
       "      <th>3</th>\n",
       "      <td>30</td>\n",
       "      <td>Me and my Spouse</td>\n",
       "      <td>62145</td>\n",
       "      <td>74574.0</td>\n",
       "      <td>3</td>\n",
       "      <td>none</td>\n",
       "      <td>92</td>\n",
       "      <td>268</td>\n",
       "      <td>1257</td>\n",
       "      <td>2</td>\n",
       "      <td>none</td>\n",
       "      <td>3</td>\n",
       "      <td>I don't exercise</td>\n",
       "      <td>have savings</td>\n",
       "      <td>Cigna Base HDHP</td>\n",
       "    </tr>\n",
       "    <tr>\n",
       "      <th>4</th>\n",
       "      <td>35</td>\n",
       "      <td>Just Me</td>\n",
       "      <td>55385</td>\n",
       "      <td>55385.0</td>\n",
       "      <td>3</td>\n",
       "      <td>none</td>\n",
       "      <td>80</td>\n",
       "      <td>270</td>\n",
       "      <td>2590</td>\n",
       "      <td>2</td>\n",
       "      <td>moving</td>\n",
       "      <td>6</td>\n",
       "      <td>I exercise 3x a week</td>\n",
       "      <td>have savings</td>\n",
       "      <td>Cigna Choice HDHP</td>\n",
       "    </tr>\n",
       "  </tbody>\n",
       "</table>\n",
       "</div>"
      ],
      "text/plain": [
       "   age            family  salary  household_salaries  \\\n",
       "0   38           Just Me   84189             84189.0   \n",
       "1   33  Me and my Spouse  117690            129459.0   \n",
       "2   47    Me and my kids   83461            100153.2   \n",
       "3   30  Me and my Spouse   62145             74574.0   \n",
       "4   35           Just Me   55385             55385.0   \n",
       "\n",
       "   financial_risk_preference preexisting_conditions  prescription_costs  \\\n",
       "0                          3                   none                  97   \n",
       "1                          3                   none                  51   \n",
       "2                          3    high blood pressure                 763   \n",
       "3                          3                   none                  92   \n",
       "4                          3                   none                  80   \n",
       "\n",
       "   pcp_costs  specialist_costs  pcp_visits     qle  specialty_visits  \\\n",
       "0       1025               358           9    none                 1   \n",
       "1        155                 0           2    none                 0   \n",
       "2        268                 0           2    baby                 0   \n",
       "3        268              1257           2    none                 3   \n",
       "4        270              2590           2  moving                 6   \n",
       "\n",
       "              exercises       savings                 label  \n",
       "0  I exercise 3x a week           HSA  Cigna Copay Plan PPO  \n",
       "1  I exercise 3x a week  have savings       Cigna Base HDHP  \n",
       "2  I exercise 3x a week  have savings  Cigna Copay Plan PPO  \n",
       "3      I don't exercise  have savings       Cigna Base HDHP  \n",
       "4  I exercise 3x a week  have savings     Cigna Choice HDHP  "
      ]
     },
     "execution_count": 69,
     "metadata": {},
     "output_type": "execute_result"
    }
   ],
   "source": [
    "import pandas as pd\n",
    "surveys = pd.read_csv(\"data/surveys.csv\", index_col=0).reset_index(drop=True)\n",
    "surveys.head()"
   ]
  },
  {
   "cell_type": "code",
   "execution_count": 70,
   "metadata": {},
   "outputs": [],
   "source": [
    "X = surveys.drop(\"label\", axis=1)\n",
    "y = surveys.label.values"
   ]
  },
  {
   "cell_type": "markdown",
   "metadata": {},
   "source": [
    "### 1) Write code to split the data into train & test sets"
   ]
  },
  {
   "cell_type": "code",
   "execution_count": 72,
   "metadata": {},
   "outputs": [],
   "source": [
    "### Option 1 - sklearn \n",
    "from sklearn.model_selection import train_test_split\n",
    "\n",
    "train_size = 0.80\n",
    "random_state = 42\n",
    "\n",
    "X_train, X_test, y_train, y_test = train_test_split(X, y, train_size=train_size, random_state=random_state, stratify=y)"
   ]
  },
  {
   "cell_type": "code",
   "execution_count": 73,
   "metadata": {},
   "outputs": [],
   "source": [
    "### Option 2 - from scratch without stratified sampling \n",
    "from random import shuffle\n",
    "\n",
    "train_size = 0.80\n",
    "\n",
    "indices = [i for i in range(len(X))]\n",
    "shuffle(indices)\n",
    "num_training_indices = int(len(indices) * train_size)\n",
    "train_indices = indices[:num_training_indices]\n",
    "test_indices = indices[num_training_indices:]\n",
    "\n",
    "# split the actual data\n",
    "X_train, X_test = X.iloc[train_indices], X.iloc[test_indices]\n",
    "y_train, y_test = y[train_indices], y[test_indices]"
   ]
  },
  {
   "cell_type": "markdown",
   "metadata": {},
   "source": [
    "### 2) You will train a multi-class classification model later in the script. Consider what model you would like to train, and implement a feature normalization strategy. Explain your reasoning behind your strategy. "
   ]
  },
  {
   "cell_type": "code",
   "execution_count": 74,
   "metadata": {},
   "outputs": [
    {
     "data": {
      "text/plain": [
       "Index(['age', 'salary', 'household_salaries', 'financial_risk_preference',\n",
       "       'prescription_costs', 'pcp_costs', 'specialist_costs', 'pcp_visits',\n",
       "       'specialty_visits'],\n",
       "      dtype='object')"
      ]
     },
     "execution_count": 74,
     "metadata": {},
     "output_type": "execute_result"
    }
   ],
   "source": [
    "numeric_features = X_train.select_dtypes(include='number').columns\n",
    "numeric_features"
   ]
  },
  {
   "cell_type": "code",
   "execution_count": 75,
   "metadata": {},
   "outputs": [
    {
     "data": {
      "text/plain": [
       "Index(['family', 'preexisting_conditions', 'qle', 'exercises', 'savings'], dtype='object')"
      ]
     },
     "execution_count": 75,
     "metadata": {},
     "output_type": "execute_result"
    }
   ],
   "source": [
    "categorical_features = X_train.select_dtypes(include='object').columns\n",
    "categorical_features"
   ]
  },
  {
   "cell_type": "code",
   "execution_count": 76,
   "metadata": {},
   "outputs": [],
   "source": [
    "from sklearn.preprocessing import StandardScaler\n",
    "from sklearn.preprocessing import OneHotEncoder\n",
    "\n",
    "scaler = StandardScaler() ### Note if candidate selects tree-based model, normalization not required!! \n",
    "X_train_numeric = pd.DataFrame(scaler.fit_transform(X_train[numeric_features]), columns=numeric_features, index=X_train.index)\n",
    "X_test_numeric = pd.DataFrame(scaler.transform(X_test[numeric_features]), columns=numeric_features, index=X_test.index)\n",
    "\n",
    "enc = OneHotEncoder(handle_unknown=\"ignore\")\n",
    "X_train_categorical = pd.DataFrame(enc.fit_transform(X_train[categorical_features]).toarray(), columns=enc.get_feature_names_out(), index=X_train.index)\n",
    "X_test_categorical = pd.DataFrame(enc.transform(X_test[categorical_features]).toarray(), columns=enc.get_feature_names_out(), index=X_test.index)\n"
   ]
  },
  {
   "cell_type": "code",
   "execution_count": 68,
   "metadata": {},
   "outputs": [],
   "source": [
    "X_train_normalized = X_train_numeric.merge(X_train_categorical, left_index=True, right_index=True)\n",
    "X_test_normalized = X_test_numeric.merge(X_test_categorical, left_index=True, right_index=True)"
   ]
  },
  {
   "cell_type": "markdown",
   "metadata": {},
   "source": [
    "### 3) Select one model and train. We do not expect you to implement hyperparameter tuning, but please talk through how you would set this up."
   ]
  },
  {
   "cell_type": "code",
   "execution_count": null,
   "metadata": {},
   "outputs": [],
   "source": [
    "from sklearn.linear_model import LogisticRegression\n",
    "\n",
    "clf = LogisticRegression(random_state=0)\n",
    "model = clf.fit(X_train_normalized, y_train) "
   ]
  },
  {
   "cell_type": "markdown",
   "metadata": {},
   "source": [
    "### 4) Evaluate Model: Display model train/test classification metrics of your choice and describe them in the context of this problem.  "
   ]
  },
  {
   "cell_type": "code",
   "execution_count": null,
   "metadata": {},
   "outputs": [],
   "source": [
    "from sklearn.metrics import classification_report\n",
    "\n",
    "y_train_predict = model.predict(X_train_normalized)\n",
    "print(\"Train Metrics: \")\n",
    "print(classification_report(y_train, y_train_predict))\n",
    "\n",
    "y_test_predict = model.predict(X_test_normalized)\n",
    "print(\"Test Metrics: \")\n",
    "print(classification_report(y_test, y_test_predict))"
   ]
  },
  {
   "cell_type": "markdown",
   "metadata": {},
   "source": [
    "### 5) Monitoring: Describe metrics you would consider to monitor this model in production.  \n"
   ]
  }
 ],
 "metadata": {
  "kernelspec": {
   "display_name": "Python 3.8.3 ('nayya_mind_agnostic')",
   "language": "python",
   "name": "python3"
  },
  "language_info": {
   "codemirror_mode": {
    "name": "ipython",
    "version": 3
   },
   "file_extension": ".py",
   "mimetype": "text/x-python",
   "name": "python",
   "nbconvert_exporter": "python",
   "pygments_lexer": "ipython3",
   "version": "3.9.6"
  },
  "vscode": {
   "interpreter": {
    "hash": "337c7ecc8912e6298565ce95f3f08fca19887c38f0cbf663bf76f669cee670e1"
   }
  }
 },
 "nbformat": 4,
 "nbformat_minor": 2
}
