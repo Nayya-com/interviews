{
 "cells": [
  {
   "cell_type": "markdown",
   "metadata": {},
   "source": [
    "## Medical Plan Recommender Model\n",
    "\n",
    "\n",
    "In this assignment, we want to evaluate your ability to engineer features and design and evaluate a model. We will create a multi-class classification model to recommend medical plans to employees based on user data (inputs) and medical plan labels (outputs). We have access to data from ~250 users. Each user is classified into 1 of 3 plans by actuaries. \n",
    "\n",
    "Feel free to use any python packages you would like. You are also allowed to google for help with method names / syntax! \n",
    "\n",
    "Dataset Columns:\n",
    "\n",
    "- **age**: age of employee\n",
    "- **family**: who is covered? (Just Me, Me and my Spouse', Me and my kids, Me, Spouse, and Kids)\n",
    "- **salary**: income of employee\n",
    "- **household_salaries**: household income of employee\n",
    "- **financial_risk_preference**: (1) Prefer Savings to Prefer Protection (5) \n",
    "- **preexisting_conditions**: conditions that require frequent doctor visits (cancer, high blood pressure, etc)\n",
    "- **prescription_costs**: costs of annual prescription \n",
    "- **pcp_costs**: costs of primary care costs last year\n",
    "- **specialist_costs**: annual cost of speciality care costs last year\n",
    "- **pcp_visits**: number of pcp visits last year\n",
    "- **qle**: qualifying life event that might incur costs (baby, medical procedure, married, moving)\n",
    "- **specialty_visits**: number of specalist visits last year \n",
    "- **exercises**: frequency of exercise (I exercise everyday, I exercise 3x a week, I don't exercise)\n",
    "- **savings**: if they had to pay $3000, how would they pay for this? (borrow money, have savings, HSA)\n",
    "- **label**: plan recommendation as indicated by actuary"
   ]
  },
  {
   "cell_type": "code",
   "execution_count": 44,
   "metadata": {},
   "outputs": [
    {
     "data": {
      "text/html": [
       "<div>\n",
       "<style scoped>\n",
       "    .dataframe tbody tr th:only-of-type {\n",
       "        vertical-align: middle;\n",
       "    }\n",
       "\n",
       "    .dataframe tbody tr th {\n",
       "        vertical-align: top;\n",
       "    }\n",
       "\n",
       "    .dataframe thead th {\n",
       "        text-align: right;\n",
       "    }\n",
       "</style>\n",
       "<table border=\"1\" class=\"dataframe\">\n",
       "  <thead>\n",
       "    <tr style=\"text-align: right;\">\n",
       "      <th></th>\n",
       "      <th>age</th>\n",
       "      <th>family</th>\n",
       "      <th>salary</th>\n",
       "      <th>household_salaries</th>\n",
       "      <th>financial_risk_preference</th>\n",
       "      <th>preexisting_conditions</th>\n",
       "      <th>prescription_costs</th>\n",
       "      <th>pcp_costs</th>\n",
       "      <th>specialist_costs</th>\n",
       "      <th>pcp_visits</th>\n",
       "      <th>qle</th>\n",
       "      <th>specialty_visits</th>\n",
       "      <th>exercises</th>\n",
       "      <th>savings</th>\n",
       "      <th>label</th>\n",
       "    </tr>\n",
       "    <tr>\n",
       "      <th>idx</th>\n",
       "      <th></th>\n",
       "      <th></th>\n",
       "      <th></th>\n",
       "      <th></th>\n",
       "      <th></th>\n",
       "      <th></th>\n",
       "      <th></th>\n",
       "      <th></th>\n",
       "      <th></th>\n",
       "      <th></th>\n",
       "      <th></th>\n",
       "      <th></th>\n",
       "      <th></th>\n",
       "      <th></th>\n",
       "      <th></th>\n",
       "    </tr>\n",
       "  </thead>\n",
       "  <tbody>\n",
       "    <tr>\n",
       "      <th>252</th>\n",
       "      <td>27</td>\n",
       "      <td>Me, Spouse, and Kids</td>\n",
       "      <td>45264</td>\n",
       "      <td>72422.4</td>\n",
       "      <td>3</td>\n",
       "      <td>none</td>\n",
       "      <td>33</td>\n",
       "      <td>232</td>\n",
       "      <td>0</td>\n",
       "      <td>2</td>\n",
       "      <td>none</td>\n",
       "      <td>0</td>\n",
       "      <td>I don't exercise</td>\n",
       "      <td>borrow money</td>\n",
       "      <td>Cigna Base HDHP</td>\n",
       "    </tr>\n",
       "    <tr>\n",
       "      <th>109</th>\n",
       "      <td>30</td>\n",
       "      <td>Me and my kids</td>\n",
       "      <td>114935</td>\n",
       "      <td>126428.5</td>\n",
       "      <td>3</td>\n",
       "      <td>none</td>\n",
       "      <td>33</td>\n",
       "      <td>135</td>\n",
       "      <td>864</td>\n",
       "      <td>2</td>\n",
       "      <td>baby</td>\n",
       "      <td>2</td>\n",
       "      <td>I exercise everyday</td>\n",
       "      <td>have savings</td>\n",
       "      <td>Cigna Copay Plan PPO</td>\n",
       "    </tr>\n",
       "    <tr>\n",
       "      <th>5</th>\n",
       "      <td>22</td>\n",
       "      <td>Just Me</td>\n",
       "      <td>142907</td>\n",
       "      <td>142907.0</td>\n",
       "      <td>3</td>\n",
       "      <td>none</td>\n",
       "      <td>48</td>\n",
       "      <td>0</td>\n",
       "      <td>699</td>\n",
       "      <td>0</td>\n",
       "      <td>none</td>\n",
       "      <td>2</td>\n",
       "      <td>I exercise 3x a week</td>\n",
       "      <td>HSA</td>\n",
       "      <td>Cigna Base HDHP</td>\n",
       "    </tr>\n",
       "    <tr>\n",
       "      <th>146</th>\n",
       "      <td>34</td>\n",
       "      <td>Just Me</td>\n",
       "      <td>40222</td>\n",
       "      <td>40222.0</td>\n",
       "      <td>3</td>\n",
       "      <td>none</td>\n",
       "      <td>129</td>\n",
       "      <td>79</td>\n",
       "      <td>1961</td>\n",
       "      <td>1</td>\n",
       "      <td>married</td>\n",
       "      <td>5</td>\n",
       "      <td>I exercise 3x a week</td>\n",
       "      <td>HSA</td>\n",
       "      <td>Cigna Choice HDHP</td>\n",
       "    </tr>\n",
       "    <tr>\n",
       "      <th>92</th>\n",
       "      <td>37</td>\n",
       "      <td>Me and my kids</td>\n",
       "      <td>95410</td>\n",
       "      <td>143115.0</td>\n",
       "      <td>5</td>\n",
       "      <td>obesity</td>\n",
       "      <td>41</td>\n",
       "      <td>137</td>\n",
       "      <td>973</td>\n",
       "      <td>1</td>\n",
       "      <td>none</td>\n",
       "      <td>2</td>\n",
       "      <td>I exercise everyday</td>\n",
       "      <td>borrow money</td>\n",
       "      <td>Cigna Choice HDHP</td>\n",
       "    </tr>\n",
       "  </tbody>\n",
       "</table>\n",
       "</div>"
      ],
      "text/plain": [
       "     age                family  salary  household_salaries  \\\n",
       "idx                                                          \n",
       "252   27  Me, Spouse, and Kids   45264             72422.4   \n",
       "109   30        Me and my kids  114935            126428.5   \n",
       "5     22               Just Me  142907            142907.0   \n",
       "146   34               Just Me   40222             40222.0   \n",
       "92    37        Me and my kids   95410            143115.0   \n",
       "\n",
       "     financial_risk_preference preexisting_conditions  prescription_costs  \\\n",
       "idx                                                                         \n",
       "252                          3                   none                  33   \n",
       "109                          3                   none                  33   \n",
       "5                            3                   none                  48   \n",
       "146                          3                   none                 129   \n",
       "92                           5                obesity                  41   \n",
       "\n",
       "     pcp_costs  specialist_costs  pcp_visits      qle  specialty_visits  \\\n",
       "idx                                                                       \n",
       "252        232                 0           2     none                 0   \n",
       "109        135               864           2     baby                 2   \n",
       "5            0               699           0     none                 2   \n",
       "146         79              1961           1  married                 5   \n",
       "92         137               973           1     none                 2   \n",
       "\n",
       "                exercises       savings                 label  \n",
       "idx                                                            \n",
       "252      I don't exercise  borrow money       Cigna Base HDHP  \n",
       "109   I exercise everyday  have savings  Cigna Copay Plan PPO  \n",
       "5    I exercise 3x a week           HSA       Cigna Base HDHP  \n",
       "146  I exercise 3x a week           HSA     Cigna Choice HDHP  \n",
       "92    I exercise everyday  borrow money     Cigna Choice HDHP  "
      ]
     },
     "execution_count": 44,
     "metadata": {},
     "output_type": "execute_result"
    }
   ],
   "source": [
    "import pandas as pd\n",
    "surveys = pd.read_csv(\"data/surveys.csv\", index_col=0)\n",
    "surveys.sample(5)"
   ]
  },
  {
   "cell_type": "code",
   "execution_count": 45,
   "metadata": {},
   "outputs": [],
   "source": [
    "X = surveys.drop(\"label\", axis=1)\n",
    "y = surveys.label.values"
   ]
  },
  {
   "cell_type": "markdown",
   "metadata": {},
   "source": [
    "### 1) Write code to split the data into train & test sets"
   ]
  },
  {
   "cell_type": "code",
   "execution_count": 35,
   "metadata": {},
   "outputs": [],
   "source": [
    "train_split = 0.75\n",
    "\n",
    "X_train = ### CHANGEME!\n",
    "X_test = ### CHANGEME!\n",
    "\n",
    "y_train = ### CHANGEME!\n",
    "y_test = ### CHANGEME!"
   ]
  },
  {
   "cell_type": "markdown",
   "metadata": {},
   "source": [
    "### 2) You will train a multi-class classification model later in the script. Consider what model you would like to train, and implement a feature normalization strategy. Explain your reasoning behind your strategy. "
   ]
  },
  {
   "cell_type": "code",
   "execution_count": 40,
   "metadata": {},
   "outputs": [
    {
     "data": {
      "text/plain": [
       "Index(['age', 'salary', 'household_salaries', 'financial_risk_preference',\n",
       "       'prescription_costs', 'pcp_costs', 'specialist_costs', 'pcp_visits',\n",
       "       'specialty_visits'],\n",
       "      dtype='object')"
      ]
     },
     "execution_count": 40,
     "metadata": {},
     "output_type": "execute_result"
    }
   ],
   "source": [
    "numeric_features = X_train.select_dtypes(include='number').columns\n",
    "numeric_features"
   ]
  },
  {
   "cell_type": "code",
   "execution_count": 41,
   "metadata": {},
   "outputs": [
    {
     "data": {
      "text/plain": [
       "Index(['family', 'preexisting_conditions', 'qle', 'exercises', 'savings'], dtype='object')"
      ]
     },
     "execution_count": 41,
     "metadata": {},
     "output_type": "execute_result"
    }
   ],
   "source": [
    "categorical_features = X_train.select_dtypes(include='object').columns\n",
    "categorical_features"
   ]
  },
  {
   "cell_type": "code",
   "execution_count": null,
   "metadata": {},
   "outputs": [],
   "source": [
    "### CHANGEME! normalize variables based on model strategy you select"
   ]
  },
  {
   "cell_type": "code",
   "execution_count": null,
   "metadata": {},
   "outputs": [],
   "source": [
    "X_train_normalized = ### CHANGEME!\n",
    "X_test_normalized = ### CHANGEME!"
   ]
  },
  {
   "cell_type": "markdown",
   "metadata": {},
   "source": [
    "### 3) Select one model, import it, and train. We do not expect you to implement hyperparameter tuning, but please talk through how you would set this up."
   ]
  },
  {
   "cell_type": "code",
   "execution_count": null,
   "metadata": {},
   "outputs": [],
   "source": [
    "clf = #### CHANGEME! select model\n",
    "model = clf.fit() #### CHANGEME! fit model "
   ]
  },
  {
   "cell_type": "markdown",
   "metadata": {},
   "source": [
    "### 4) Evaluate Model: Display model train/test classification metrics of your choice and describe them in the context of this problem.  "
   ]
  },
  {
   "cell_type": "code",
   "execution_count": null,
   "metadata": {},
   "outputs": [],
   "source": [
    "#### CHANGEME! display classification metrics of your choice "
   ]
  },
  {
   "cell_type": "markdown",
   "metadata": {},
   "source": [
    "### 5) Monitoring: Why is production monitoring important? Please describe metrics you would consider to monitor this model in production.  \n"
   ]
  }
 ],
 "metadata": {
  "kernelspec": {
   "display_name": "Python 3.8.3 ('nayya_mind_agnostic')",
   "language": "python",
   "name": "python3"
  },
  "language_info": {
   "codemirror_mode": {
    "name": "ipython",
    "version": 3
   },
   "file_extension": ".py",
   "mimetype": "text/x-python",
   "name": "python",
   "nbconvert_exporter": "python",
   "pygments_lexer": "ipython3",
   "version": "3.8.3"
  },
  "vscode": {
   "interpreter": {
    "hash": "337c7ecc8912e6298565ce95f3f08fca19887c38f0cbf663bf76f669cee670e1"
   }
  }
 },
 "nbformat": 4,
 "nbformat_minor": 2
}
