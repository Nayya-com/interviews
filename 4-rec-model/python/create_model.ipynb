{
 "cells": [
  {
   "cell_type": "markdown",
   "metadata": {},
   "source": [
    "## Medical Plan Recommender Model\n",
    "\n",
    "\n",
    "#### In this assignment, we want to evaluate your ability to engineer features and design and evaluate a model. We will create a multi-class classification model to recommend medical plans to employees based on user data (inputs) and medical plan labels (outputs). We have access to data from ~250 users. Each user is classified into 1 of 3 plans by actuaries. \n",
    "\n",
    "#### Feel free to use any python packages you would like. You are also allowed to google for help with method names / syntax! \n",
    "\n",
    "#### Dataset Columns:\n",
    "\n",
    "- **age**: age of employee\n",
    "- **family**: who is covered? (Just Me, Me and my Spouse', Me and my kids, Me, Spouse, and Kids)\n",
    "- **salary**: income of employee\n",
    "- **household_salaries**: household income of employee\n",
    "- **financial_risk_preference**: (1) Prefer Savings to Prefer Protection (5) \n",
    "- **preexisting_conditions**: conditions that require frequent doctor visits (cancer, high blood pressure, etc)\n",
    "- **prescription_costs**: costs of annual prescription \n",
    "- **pcp_costs**: costs of primary care costs last year\n",
    "- **specialist_costs**: annual cost of speciality care costs last year\n",
    "- **pcp_visits**: number of pcp visits last year\n",
    "- **qle**: qualifying life event that might incur costs (baby, medical procedure, married, moving)\n",
    "- **specialty_visits**: number of specalist visits last year \n",
    "- **exercises**: frequency of exercise (I exercise everyday, I exercise 3x a week, I don't exercise)\n",
    "- **savings**: if they had to pay $3000, how would they pay for this? (borrow money, have savings, HSA)\n",
    "- **label**: plan recommendation as indicated by actuary"
   ]
  },
  {
   "cell_type": "code",
   "execution_count": 10,
   "metadata": {},
   "outputs": [
    {
     "data": {
      "text/html": [
       "<div>\n",
       "<style scoped>\n",
       "    .dataframe tbody tr th:only-of-type {\n",
       "        vertical-align: middle;\n",
       "    }\n",
       "\n",
       "    .dataframe tbody tr th {\n",
       "        vertical-align: top;\n",
       "    }\n",
       "\n",
       "    .dataframe thead th {\n",
       "        text-align: right;\n",
       "    }\n",
       "</style>\n",
       "<table border=\"1\" class=\"dataframe\">\n",
       "  <thead>\n",
       "    <tr style=\"text-align: right;\">\n",
       "      <th></th>\n",
       "      <th>age</th>\n",
       "      <th>family</th>\n",
       "      <th>salary</th>\n",
       "      <th>household_salaries</th>\n",
       "      <th>financial_risk_preference</th>\n",
       "      <th>preexisting_conditions</th>\n",
       "      <th>prescription_costs</th>\n",
       "      <th>pcp_costs</th>\n",
       "      <th>specialist_costs</th>\n",
       "      <th>pcp_visits</th>\n",
       "      <th>qle</th>\n",
       "      <th>specialty_visits</th>\n",
       "      <th>exercises</th>\n",
       "      <th>savings</th>\n",
       "      <th>label</th>\n",
       "    </tr>\n",
       "    <tr>\n",
       "      <th>idx</th>\n",
       "      <th></th>\n",
       "      <th></th>\n",
       "      <th></th>\n",
       "      <th></th>\n",
       "      <th></th>\n",
       "      <th></th>\n",
       "      <th></th>\n",
       "      <th></th>\n",
       "      <th></th>\n",
       "      <th></th>\n",
       "      <th></th>\n",
       "      <th></th>\n",
       "      <th></th>\n",
       "      <th></th>\n",
       "      <th></th>\n",
       "    </tr>\n",
       "  </thead>\n",
       "  <tbody>\n",
       "    <tr>\n",
       "      <th>37</th>\n",
       "      <td>24</td>\n",
       "      <td>Me and my kids</td>\n",
       "      <td>40534</td>\n",
       "      <td>56747.6</td>\n",
       "      <td>3</td>\n",
       "      <td>none</td>\n",
       "      <td>45</td>\n",
       "      <td>1265</td>\n",
       "      <td>0</td>\n",
       "      <td>8</td>\n",
       "      <td>none</td>\n",
       "      <td>0</td>\n",
       "      <td>I exercise everyday</td>\n",
       "      <td>borrow money</td>\n",
       "      <td>Cigna Choice HDHP</td>\n",
       "    </tr>\n",
       "    <tr>\n",
       "      <th>201</th>\n",
       "      <td>19</td>\n",
       "      <td>Just Me</td>\n",
       "      <td>133141</td>\n",
       "      <td>133141.0</td>\n",
       "      <td>3</td>\n",
       "      <td>high blood pressure</td>\n",
       "      <td>87</td>\n",
       "      <td>671</td>\n",
       "      <td>811</td>\n",
       "      <td>8</td>\n",
       "      <td>none</td>\n",
       "      <td>2</td>\n",
       "      <td>I exercise everyday</td>\n",
       "      <td>HSA</td>\n",
       "      <td>Cigna Choice HDHP</td>\n",
       "    </tr>\n",
       "    <tr>\n",
       "      <th>105</th>\n",
       "      <td>30</td>\n",
       "      <td>Me and my Spouse</td>\n",
       "      <td>48047</td>\n",
       "      <td>76875.2</td>\n",
       "      <td>3</td>\n",
       "      <td>none</td>\n",
       "      <td>254</td>\n",
       "      <td>281</td>\n",
       "      <td>372</td>\n",
       "      <td>3</td>\n",
       "      <td>none</td>\n",
       "      <td>1</td>\n",
       "      <td>I exercise everyday</td>\n",
       "      <td>borrow money</td>\n",
       "      <td>Cigna Base HDHP</td>\n",
       "    </tr>\n",
       "    <tr>\n",
       "      <th>36</th>\n",
       "      <td>22</td>\n",
       "      <td>Me and my kids</td>\n",
       "      <td>60161</td>\n",
       "      <td>78209.3</td>\n",
       "      <td>4</td>\n",
       "      <td>high blood pressure</td>\n",
       "      <td>52</td>\n",
       "      <td>322</td>\n",
       "      <td>1209</td>\n",
       "      <td>2</td>\n",
       "      <td>none</td>\n",
       "      <td>3</td>\n",
       "      <td>I exercise 3x a week</td>\n",
       "      <td>have savings</td>\n",
       "      <td>Cigna Choice HDHP</td>\n",
       "    </tr>\n",
       "    <tr>\n",
       "      <th>209</th>\n",
       "      <td>18</td>\n",
       "      <td>Me, Spouse, and Kids</td>\n",
       "      <td>48505</td>\n",
       "      <td>67907.0</td>\n",
       "      <td>3</td>\n",
       "      <td>obesity</td>\n",
       "      <td>61</td>\n",
       "      <td>0</td>\n",
       "      <td>2574</td>\n",
       "      <td>0</td>\n",
       "      <td>none</td>\n",
       "      <td>7</td>\n",
       "      <td>I don't exercise</td>\n",
       "      <td>have savings</td>\n",
       "      <td>Cigna Choice HDHP</td>\n",
       "    </tr>\n",
       "  </tbody>\n",
       "</table>\n",
       "</div>"
      ],
      "text/plain": [
       "     age                family  salary  household_salaries  \\\n",
       "idx                                                          \n",
       "37    24        Me and my kids   40534             56747.6   \n",
       "201   19               Just Me  133141            133141.0   \n",
       "105   30      Me and my Spouse   48047             76875.2   \n",
       "36    22        Me and my kids   60161             78209.3   \n",
       "209   18  Me, Spouse, and Kids   48505             67907.0   \n",
       "\n",
       "     financial_risk_preference preexisting_conditions  prescription_costs  \\\n",
       "idx                                                                         \n",
       "37                           3                   none                  45   \n",
       "201                          3    high blood pressure                  87   \n",
       "105                          3                   none                 254   \n",
       "36                           4    high blood pressure                  52   \n",
       "209                          3                obesity                  61   \n",
       "\n",
       "     pcp_costs  specialist_costs  pcp_visits   qle  specialty_visits  \\\n",
       "idx                                                                    \n",
       "37        1265                 0           8  none                 0   \n",
       "201        671               811           8  none                 2   \n",
       "105        281               372           3  none                 1   \n",
       "36         322              1209           2  none                 3   \n",
       "209          0              2574           0  none                 7   \n",
       "\n",
       "                exercises       savings              label  \n",
       "idx                                                         \n",
       "37    I exercise everyday  borrow money  Cigna Choice HDHP  \n",
       "201   I exercise everyday           HSA  Cigna Choice HDHP  \n",
       "105   I exercise everyday  borrow money    Cigna Base HDHP  \n",
       "36   I exercise 3x a week  have savings  Cigna Choice HDHP  \n",
       "209      I don't exercise  have savings  Cigna Choice HDHP  "
      ]
     },
     "execution_count": 10,
     "metadata": {},
     "output_type": "execute_result"
    }
   ],
   "source": [
    "import pandas as pd\n",
    "surveys = pd.read_csv(\"data/surveys.csv\", index_col=0)\n",
    "surveys.sample(5)"
   ]
  },
  {
   "cell_type": "code",
   "execution_count": 42,
   "metadata": {},
   "outputs": [],
   "source": [
    "X = surveys.drop(\"label\", axis=1)\n",
    "y = surveys.label.values"
   ]
  },
  {
   "cell_type": "markdown",
   "metadata": {},
   "source": [
    "### 1) Write code to split the data into train & test sets"
   ]
  },
  {
   "cell_type": "code",
   "execution_count": 35,
   "metadata": {},
   "outputs": [],
   "source": [
    "train_split = 0.75\n",
    "\n",
    "X_train = ### CHANGEME!\n",
    "X_test = ### CHANGEME!\n",
    "\n",
    "y_train = ### CHANGEME!\n",
    "y_test = ### CHANGEME!"
   ]
  },
  {
   "cell_type": "markdown",
   "metadata": {},
   "source": [
    "### 2) You will train a multi-class classification model later in the script. Consider what model you would like to train, and implement a feature normalization strategy. Explain your reasoning behind your strategy. "
   ]
  },
  {
   "cell_type": "code",
   "execution_count": 40,
   "metadata": {},
   "outputs": [
    {
     "data": {
      "text/plain": [
       "Index(['age', 'salary', 'household_salaries', 'financial_risk_preference',\n",
       "       'prescription_costs', 'pcp_costs', 'specialist_costs', 'pcp_visits',\n",
       "       'specialty_visits'],\n",
       "      dtype='object')"
      ]
     },
     "execution_count": 40,
     "metadata": {},
     "output_type": "execute_result"
    }
   ],
   "source": [
    "numeric_features = X_train.select_dtypes(include='number').columns\n",
    "numeric_features"
   ]
  },
  {
   "cell_type": "code",
   "execution_count": 41,
   "metadata": {},
   "outputs": [
    {
     "data": {
      "text/plain": [
       "Index(['family', 'preexisting_conditions', 'qle', 'exercises', 'savings'], dtype='object')"
      ]
     },
     "execution_count": 41,
     "metadata": {},
     "output_type": "execute_result"
    }
   ],
   "source": [
    "categorical_features = X_train.select_dtypes(include='object').columns\n",
    "categorical_features"
   ]
  },
  {
   "cell_type": "code",
   "execution_count": null,
   "metadata": {},
   "outputs": [],
   "source": [
    "### CHANGEME! normalize variables based on model strategy you select"
   ]
  },
  {
   "cell_type": "code",
   "execution_count": null,
   "metadata": {},
   "outputs": [],
   "source": [
    "X_train_normalized = ### CHANGEME!\n",
    "X_test_normalized = ### CHANGEME!"
   ]
  },
  {
   "cell_type": "markdown",
   "metadata": {},
   "source": [
    "### 3) Select one model and train. We do not expect you to implement hyperparameter tuning, but please talk through how you would set this up."
   ]
  },
  {
   "cell_type": "code",
   "execution_count": null,
   "metadata": {},
   "outputs": [],
   "source": [
    "clf = #### CHANGEME! select model\n",
    "model = clf.fit() #### CHANGEME! fit model "
   ]
  },
  {
   "cell_type": "markdown",
   "metadata": {},
   "source": [
    "### 4) Evaluate Model: Display model train/test classification metrics of your choice and describe them in the context of this problem.  "
   ]
  },
  {
   "cell_type": "code",
   "execution_count": null,
   "metadata": {},
   "outputs": [],
   "source": [
    "#### CHANGEME! display classification metrics of your choice "
   ]
  },
  {
   "cell_type": "markdown",
   "metadata": {},
   "source": [
    "### 5) Monitoring: Describe metrics you would consider to monitor this model in production.  \n"
   ]
  }
 ],
 "metadata": {
  "kernelspec": {
   "display_name": "Python 3.8.3 ('nayya_mind_agnostic')",
   "language": "python",
   "name": "python3"
  },
  "language_info": {
   "codemirror_mode": {
    "name": "ipython",
    "version": 3
   },
   "file_extension": ".py",
   "mimetype": "text/x-python",
   "name": "python",
   "nbconvert_exporter": "python",
   "pygments_lexer": "ipython3",
   "version": "3.8.3"
  },
  "vscode": {
   "interpreter": {
    "hash": "337c7ecc8912e6298565ce95f3f08fca19887c38f0cbf663bf76f669cee670e1"
   }
  }
 },
 "nbformat": 4,
 "nbformat_minor": 2
}
